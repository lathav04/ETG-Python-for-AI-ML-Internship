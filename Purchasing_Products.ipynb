{
 "cells": [
  {
   "cell_type": "markdown",
   "id": "d3b6da45",
   "metadata": {},
   "source": [
    "## Read Inventory"
   ]
  },
  {
   "cell_type": "code",
   "execution_count": 1,
   "id": "2ff719f8",
   "metadata": {},
   "outputs": [],
   "source": [
    "import json\n",
    "\n",
    "fd = open(\"record.json\",'r')\n",
    "r = fd.read()\n",
    "fd.close()\n",
    "\n",
    "records = json.loads(r)"
   ]
  },
  {
   "cell_type": "code",
   "execution_count": 6,
   "id": "5b6f893f",
   "metadata": {},
   "outputs": [
    {
     "data": {
      "text/plain": [
       "{'1001': {'name': 'Choco Cake', 'qn': 34, 'pr': 100},\n",
       " '1002': {'name': 'Milk Cake', 'pr': 800, 'qn': 100},\n",
       " '1003': {'name': 'Drink', 'pr': 85, 'qn': 100},\n",
       " '1004': {'name': 'Candy', 'pr': 5, 'qn': 1000},\n",
       " '1005': {'name': 'Pen', 'pr': 20, 'qn': 100},\n",
       " '1006': {'name': 'Phone', 'pr': 50000, 'qn': 9},\n",
       " '1007': {'name': 'Mic', 'pr': 1500, 'qn': 0},\n",
       " '1008': {'name': 'Case', 'pr': 599, 'qn': 5},\n",
       " '1009': {'name': 'Keyboard', 'pr': 1999, 'qn': 10}}"
      ]
     },
     "execution_count": 6,
     "metadata": {},
     "output_type": "execute_result"
    }
   ],
   "source": [
    "records"
   ]
  },
  {
   "cell_type": "markdown",
   "id": "db7b55d9",
   "metadata": {},
   "source": [
    "## Purchase"
   ]
  },
  {
   "cell_type": "code",
   "execution_count": 8,
   "id": "65c7ec4b",
   "metadata": {},
   "outputs": [
    {
     "name": "stdout",
     "output_type": "stream",
     "text": [
      "Enter the product_Id: 1006\n",
      "Enter the quantity: 1\n",
      "Product:  Phone\n",
      "Price:  50000\n",
      "Billing Amount:  50000\n"
     ]
    }
   ],
   "source": [
    "ui_prod  = str(input(\"Enter the product_Id: \"))\n",
    "ui_quant = int(input(\"Enter the quantity: \"))\n",
    "\n",
    "\n",
    "print(\"Product: \", records[ui_prod]['name'])\n",
    "print(\"Price: \", records[ui_prod]['pr'])\n",
    "print(\"Billing Amount: \", records[ui_prod]['pr'] * ui_quant)\n",
    "\n",
    "records[ui_prod]['qn'] = records[ui_prod]['qn'] - ui_quant"
   ]
  },
  {
   "cell_type": "markdown",
   "id": "1e34ec7b",
   "metadata": {},
   "source": [
    "## Update Inventory After Purchase"
   ]
  },
  {
   "cell_type": "code",
   "execution_count": 7,
   "id": "d1547b4b",
   "metadata": {},
   "outputs": [],
   "source": [
    "js = json.dumps(records)\n",
    "\n",
    "fd = open(\"record.json\",'w')\n",
    "fd.write(js)\n",
    "fd.close()"
   ]
  },
  {
   "cell_type": "markdown",
   "id": "da2a73f3",
   "metadata": {},
   "source": [
    "## Sales JSON "
   ]
  },
  {
   "cell_type": "code",
   "execution_count": 9,
   "id": "37b68251",
   "metadata": {},
   "outputs": [
    {
     "data": {
      "text/plain": [
       "{'prod': '1006', 'qn': 1, 'amount': 50000}"
      ]
     },
     "execution_count": 9,
     "metadata": {},
     "output_type": "execute_result"
    }
   ],
   "source": [
    "{'prod' : ui_prod, 'qn' : ui_quant, 'amount': records[ui_prod]['pr'] * ui_quant}"
   ]
  },
  {
   "cell_type": "code",
   "execution_count": 10,
   "id": "09d5a8e6",
   "metadata": {},
   "outputs": [],
   "source": [
    "sales = {1 : {'prod' : ui_prod, 'qn' : ui_quant, 'amount': records[ui_prod]['pr'] * ui_quant},\n",
    "         2 : {'prod' : ui_prod, 'qn' : ui_quant, 'amount': records[ui_prod]['pr'] * ui_quant},\n",
    "         3 : {'prod' : ui_prod, 'qn' : ui_quant, 'amount': records[ui_prod]['pr'] * ui_quant}}"
   ]
  },
  {
   "cell_type": "code",
   "execution_count": 16,
   "id": "7e0089d9",
   "metadata": {},
   "outputs": [],
   "source": [
    "sale = json.dumps(sales)"
   ]
  },
  {
   "cell_type": "code",
   "execution_count": 17,
   "id": "f1ae56d0",
   "metadata": {},
   "outputs": [
    {
     "data": {
      "text/plain": [
       "'{\"1\": {\"prod\": \"1006\", \"qn\": 1, \"amount\": 50000}, \"2\": {\"prod\": \"1006\", \"qn\": 1, \"amount\": 50000}, \"3\": {\"prod\": \"1006\", \"qn\": 1, \"amount\": 50000}}'"
      ]
     },
     "execution_count": 17,
     "metadata": {},
     "output_type": "execute_result"
    }
   ],
   "source": [
    "sale"
   ]
  },
  {
   "cell_type": "code",
   "execution_count": 27,
   "id": "d20400cd",
   "metadata": {},
   "outputs": [],
   "source": [
    "sale = json.dumps(sales)\n",
    "fd = open(\"sales.json\", 'w')\n",
    "fd.write(sale)\n",
    "fd.close()"
   ]
  },
  {
   "cell_type": "code",
   "execution_count": null,
   "id": "8e371011",
   "metadata": {},
   "outputs": [],
   "source": []
  }
 ],
 "metadata": {
  "kernelspec": {
   "display_name": "Python 3",
   "language": "python",
   "name": "python3"
  },
  "language_info": {
   "codemirror_mode": {
    "name": "ipython",
    "version": 3
   },
   "file_extension": ".py",
   "mimetype": "text/x-python",
   "name": "python",
   "nbconvert_exporter": "python",
   "pygments_lexer": "ipython3",
   "version": "3.8.8"
  }
 },
 "nbformat": 4,
 "nbformat_minor": 5
}
