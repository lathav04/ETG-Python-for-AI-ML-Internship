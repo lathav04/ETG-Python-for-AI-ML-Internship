{
 "cells": [
  {
   "cell_type": "markdown",
   "id": "baab8955",
   "metadata": {},
   "source": [
    "## Generating Sales and Record file for the first time"
   ]
  },
  {
   "cell_type": "code",
   "execution_count": 11,
   "id": "677b6840",
   "metadata": {},
   "outputs": [],
   "source": [
    "import json\n",
    "import time"
   ]
  },
  {
   "cell_type": "code",
   "execution_count": 27,
   "id": "fbc50428",
   "metadata": {},
   "outputs": [],
   "source": [
    "fd = open('record.json','w')\n",
    "fd.write(t)\n",
    "fd.close()\n",
    "\n",
    "sales = {}\n",
    "\n",
    "sales = json.dumps(sales)\n",
    "\n",
    "fd = open(\"sales.json\", 'w')\n",
    "fd.write(sales)\n",
    "fd.close()"
   ]
  },
  {
   "cell_type": "code",
   "execution_count": 28,
   "id": "3a54e040",
   "metadata": {},
   "outputs": [
    {
     "name": "stdout",
     "output_type": "stream",
     "text": [
      "**********************************************\n",
      "1001 {'name': 'Choco Cake', 'qn': 29, 'pr': 100}\n",
      "1002 {'name': 'Milk Cake', 'pr': 800, 'qn': 90}\n",
      "1003 {'name': 'Drink', 'pr': 85, 'qn': 100}\n",
      "1004 {'name': 'Candy', 'pr': 5, 'qn': 1000}\n",
      "1005 {'name': 'Pen', 'pr': 20, 'qn': 100}\n",
      "1006 {'name': 'Phone', 'pr': 50000, 'qn': 10}\n",
      "1007 {'name': 'Mic', 'pr': 1500, 'qn': 0}\n",
      "1008 {'name': 'Case', 'pr': 599, 'qn': 5}\n",
      "1009 {'name': 'Keyboard', 'pr': 1999, 'qn': 10}\n",
      "******************************************\n",
      "\n",
      "Enter the product_Id: 1001\n",
      "Enter the quantity: 4\n",
      "Name: Choco Cake\n",
      "Price: 100\n",
      "Quantity: 4\n",
      "------------------------------\n",
      "Billing Amount: 400\n",
      "------------------------------\n",
      "Data Updated in Sales File!\n",
      "Data Updated in Inventory File!\n"
     ]
    }
   ],
   "source": [
    "# Loading Inventory and Converting it to Dictionary\n",
    "fd = open('record.json','r')\n",
    "t = fd.read()\n",
    "fd.close()\n",
    "dct = json.loads(t)\n",
    "\n",
    "# Loading Sales and Converting it to Dictionary\n",
    "fd = open(\"sales.json\", 'r')\n",
    "sl = fd.read()\n",
    "fd.close()\n",
    "sales = json.loads(sl)\n",
    "\n",
    "\n",
    "# Displaying Menu\n",
    "print(\"**********************************************\")\n",
    "for i in dct.keys():\n",
    "  print(i, dct[i])\n",
    "\n",
    "print(\"******************************************\\n\")\n",
    "\n",
    "# Taking Input from User to Enter what he/she wants to purchase\n",
    "ui_prod  = str(input(\"Enter the product_Id: \"))\n",
    "ui_quant = int(input(\"Enter the quantity: \"))\n",
    "\n",
    "\n",
    "if (ui_prod in dct.keys()):                                                     # Checking If product Exists or not\n",
    "    if (dct[ui_prod]['qn'] >= ui_quant):                                        # If I'm having enough Quantity\n",
    "      print(\"Name:\",dct[ui_prod]['name'])\n",
    "      print(\"Price:\",dct[ui_prod]['pr'])\n",
    "      print(\"Quantity:\", ui_quant)\n",
    "      print(\"------------------------------\")\n",
    "      print(\"Billing Amount:\", dct[ui_prod]['pr'] * ui_quant)\n",
    "\n",
    "      dct[ui_prod]['qn'] = dct[ui_prod]['qn'] - ui_quant                        # Updating Inventory\n",
    "\n",
    "      sales[str(len(sales)+1)] = {'prod_id' : ui_prod,                          # Updating Transection\n",
    "                                  \"time_pr\" :  time.ctime(), \n",
    "                                  'bill' : dct[ui_prod]['pr'] * ui_quant, \n",
    "                                  'qn' : ui_quant, \n",
    "                                  'pr' : dct[ui_prod]['pr'], \n",
    "                                  'pr_name' : dct[ui_prod]['name']}\n",
    "\n",
    "\n",
    "    else:                                                                       # If I'm not having enough Quantity\n",
    "      print(\"Sorry, We are not having that much of quantity.\")\n",
    "      print(\"We're only having\",dct[ui_prod]['qn'],\"quantity.\")\n",
    "      print(\"Would you like to purchase or not (Y/N)\")\n",
    "      ch = str(input(\"Y/N\"))\n",
    "\n",
    "      if (ch == \"Y\"):                                                           # If user wants to purchase the quantitry we're having\n",
    "        print(\"Name:\",dct[ui_prod]['name'])\n",
    "        print(\"Price:\",dct[ui_prod]['pr'])\n",
    "        print(\"Quantity:\", dct[ui_prod]['qn'])\n",
    "        print(\"------------------------------\")\n",
    "        print(\"Billing Amount:\", dct[ui_prod]['pr'] * dct[ui_prod]['qn'])\n",
    "\n",
    "        dct[ui_prod]['qn'] = 0                                                  # Updating Inventory\n",
    "\n",
    "        sales[str(len(sales)+1)] = {'prod_id' : ui_prod,                        # Updating Transection\n",
    "                                    \"time_pr\" :  time.ctime(), \n",
    "                                    'bill' : dct[ui_prod]['pr'] * dct[ui_prod]['qn'], \n",
    "                                    'qn' : dct[ui_prod]['qn'], \n",
    "                                    'pr' : dct[ui_prod]['pr'], \n",
    "                                    'pr_name' : dct[ui_prod]['name']}\n",
    "\n",
    "      else:                                                                     # If user press anything Except Y\n",
    "        print(\"Thankyou!\")\n",
    "\n",
    "else:                                                                           # Product ID Doesn't exists\n",
    "  print(\"------------------------------\")\n",
    "  print(\"Product doesn't exist!\")\n",
    "  print(\"Please enter a valid product id\")\n",
    "  print(\"------------------------------\")\n",
    "\n",
    "\n",
    "\n",
    "sl = json.dumps(sales)                                                          # Updating Sales File\n",
    "fd = open('sales.json','w')\n",
    "fd.write(sl)\n",
    "fd.close()\n",
    "\n",
    "print(\"------------------------------\")\n",
    "print(\"Data Updated in Sales File!\")\n",
    "\n",
    "js = json.dumps(dct)                                                            # Updating Inventory File\n",
    "fd = open('record.json','w')\n",
    "fd.write(js)\n",
    "fd.close()\n",
    "\n",
    "print(\"Data Updated in Inventory File!\")\n"
   ]
  },
  {
   "cell_type": "code",
   "execution_count": 29,
   "id": "ddb86097",
   "metadata": {},
   "outputs": [
    {
     "data": {
      "text/plain": [
       "{'1001': {'name': 'Choco Cake', 'qn': 25, 'pr': 100},\n",
       " '1002': {'name': 'Milk Cake', 'pr': 800, 'qn': 90},\n",
       " '1003': {'name': 'Drink', 'pr': 85, 'qn': 100},\n",
       " '1004': {'name': 'Candy', 'pr': 5, 'qn': 1000},\n",
       " '1005': {'name': 'Pen', 'pr': 20, 'qn': 100},\n",
       " '1006': {'name': 'Phone', 'pr': 50000, 'qn': 10},\n",
       " '1007': {'name': 'Mic', 'pr': 1500, 'qn': 0},\n",
       " '1008': {'name': 'Case', 'pr': 599, 'qn': 5},\n",
       " '1009': {'name': 'Keyboard', 'pr': 1999, 'qn': 10}}"
      ]
     },
     "execution_count": 29,
     "metadata": {},
     "output_type": "execute_result"
    }
   ],
   "source": [
    "dct"
   ]
  },
  {
   "cell_type": "code",
   "execution_count": 30,
   "id": "3b9fd5d8",
   "metadata": {},
   "outputs": [
    {
     "data": {
      "text/plain": [
       "{'1': {'prod_id': '1001',\n",
       "  'time_pr': 'Thu Sep  9 14:07:58 2021',\n",
       "  'bill': 400,\n",
       "  'qn': 4,\n",
       "  'pr': 100,\n",
       "  'pr_name': 'Choco Cake'}}"
      ]
     },
     "execution_count": 30,
     "metadata": {},
     "output_type": "execute_result"
    }
   ],
   "source": [
    "sales"
   ]
  },
  {
   "cell_type": "code",
   "execution_count": null,
   "id": "7486ff95",
   "metadata": {},
   "outputs": [],
   "source": []
  }
 ],
 "metadata": {
  "kernelspec": {
   "display_name": "Python 3",
   "language": "python",
   "name": "python3"
  },
  "language_info": {
   "codemirror_mode": {
    "name": "ipython",
    "version": 3
   },
   "file_extension": ".py",
   "mimetype": "text/x-python",
   "name": "python",
   "nbconvert_exporter": "python",
   "pygments_lexer": "ipython3",
   "version": "3.8.8"
  }
 },
 "nbformat": 4,
 "nbformat_minor": 5
}
